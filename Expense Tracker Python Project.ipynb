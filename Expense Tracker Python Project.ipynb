{
 "cells": [
  {
   "cell_type": "code",
   "execution_count": 65,
   "id": "13b6d1c5-8196-47b1-aa8e-a5ea997752fb",
   "metadata": {},
   "outputs": [],
   "source": [
    "class Expense_Tracker:\n",
    "    def __init__(self):\n",
    "        self.expenses = []\n",
    "\n",
    "    def load_existing_data(self):\n",
    "        try:\n",
    "            self.expenses = [] \n",
    "            with open(\"expenses.txt\", \"r\") as file:\n",
    "                lines = file.readlines()\n",
    "\n",
    "                if len(lines) <= 2:\n",
    "                    print(\"No expenses to load.\")\n",
    "                    return\n",
    "\n",
    "                # Print table headers\n",
    "                print(f\"{'Payer':<10} | {'Amount':<10} | {'Description':<25} | Receivers\")\n",
    "                print(\"-\" * 70)\n",
    "\n",
    "                for line in lines[2:]:  \n",
    "                    parts = line.strip().split(\" | \")\n",
    "                    if len(parts) == 4:\n",
    "                        payer = parts[0].strip()\n",
    "                        amount = float(parts[1].strip())\n",
    "                        description = parts[2].strip()\n",
    "                        receiver_data = parts[3].strip().split(\",\")\n",
    "\n",
    "                        receiver_dict = {}\n",
    "                        receivers_list = []\n",
    "                        for r in receiver_data:\n",
    "                            if \": \" in r:\n",
    "                                name, val = r.strip().split(\": \")\n",
    "                                receiver_dict[name.strip()] = float(val.strip())\n",
    "                                receivers_list.append(f\"{name.strip()}: {val.strip()}\")\n",
    "\n",
    "                \n",
    "                        self.expenses.append({\n",
    "                            'payer': payer,\n",
    "                            'amount': amount,\n",
    "                            'description': description,\n",
    "                            'receiver': receiver_dict\n",
    "                        })\n",
    "\n",
    "         \n",
    "                        receivers_str = \", \".join(receivers_list)\n",
    "                        print(f\"{payer:<10} | {amount:<10.2f} | {description:<25} | {receivers_str}\")\n",
    "\n",
    "                print(\"\\nExisting data loaded and displayed successfully.\")\n",
    "\n",
    "        except Exception as e:\n",
    "            print(f\"Error loading data: {e}\")\n",
    "    \n",
    "    def add_expense(self):\n",
    "        payer = input(\"Enter the payer name: \").strip()\n",
    "        amt = float(input(\"Enter the amount: \"))\n",
    "        description = input(\"Enter the description of expense: \").strip()\n",
    "        split_type = input('Choose the split type [Equal/Custom]: ').lower()\n",
    "        receiver = {}\n",
    "\n",
    "        if split_type == 'equal':\n",
    "            receivers = [i.strip() for i in input(\"Enter the names of the receivers: \").split(\",\")]\n",
    "            for i in receivers:\n",
    "                receiver[i] = amt / len(receivers)\n",
    "\n",
    "        elif split_type == 'custom':\n",
    "            while True:\n",
    "                receivers = [i.strip() for i in input(\"Enter the names of the receivers: \").split(\",\")]\n",
    "                receiver = {}\n",
    "                for i in receivers:\n",
    "                    receiver[i] = float(input(f\"Enter the amount for {i}: \"))\n",
    "                if sum(receiver.values()) != amt:\n",
    "                    print('Entered amount is not matching')\n",
    "                    print('Enter your details again\\n')\n",
    "                    continue\n",
    "                break\n",
    "        else:\n",
    "            print('Choose a valid split_type')\n",
    "\n",
    "        self.expenses.append({'payer': payer, 'amount': amt, 'description': description, 'receiver': receiver})\n",
    "        print(\"Expense added successfully\")\n",
    "\n",
    "        self.save_data()  \n",
    "\n",
    "    def get_balance(self):\n",
    "        balances = {}\n",
    "        for expense in self.expenses:\n",
    "            payer = expense['payer']\n",
    "            amt = expense['amount']\n",
    "            for receiver, amount in expense['receiver'].items():\n",
    "                if payer != receiver:\n",
    "                    if receiver not in balances:\n",
    "                        balances[receiver] = 0\n",
    "                    if payer not in balances:\n",
    "                        balances[payer] = 0\n",
    "                    balances[receiver] -= amount\n",
    "                    balances[payer] += amount\n",
    "        return balances\n",
    "\n",
    "    def get_simplified(self):\n",
    "        balances = self.get_balance()\n",
    "        if balances is None or not balances:\n",
    "            print(\"No balances to simplify. Please add some expenses first.\")\n",
    "            return []\n",
    "\n",
    "        simplified = []\n",
    "        for person, balance in balances.items():\n",
    "            if balance < 0:\n",
    "                simplified.append((person, balance))\n",
    "        return simplified\n",
    "\n",
    "    def get_person_summary(self):\n",
    "        person = input(\"Enter the name of the person to get the summary: \").strip()\n",
    "        total_paid = 0\n",
    "        total_received = 0\n",
    "        total_spent_on_self = 0  \n",
    "        \n",
    "        for expense in self.expenses:\n",
    "            if expense['payer'].strip() == person:  \n",
    "                total_paid += expense['amount']\n",
    "            for receiver in expense['receiver']:\n",
    "                if receiver.strip() == person:\n",
    "                    if expense['payer'].strip() != person:\n",
    "                        total_received += expense['receiver'][receiver]\n",
    "            if person in expense['receiver'] and expense['payer'].strip() == person:\n",
    "                total_spent_on_self += expense['receiver'][person]\n",
    "\n",
    "        print(f\"\\nSummary for {person}:\")\n",
    "        print(f\"Total Paid      : {total_paid}\")\n",
    "        print(f\"Total Received  : {total_received}\")\n",
    "        print(f\"Total Spent on Self : {total_spent_on_self}\")\n",
    "    \n",
    "    def get_expense_summary(self):\n",
    "        summary = []\n",
    "        for expense in self.expenses:\n",
    "            summary.append({\n",
    "                'payer': expense['payer'],\n",
    "                'amount': expense['amount'],\n",
    "                'description': expense['description'],\n",
    "                'receivers': expense['receiver']\n",
    "            })\n",
    "        return summary\n",
    "\n",
    "    def save_data(self):\n",
    "        try:\n",
    "            with open(\"expenses.txt\", \"w\") as file:\n",
    "                file.write(f\"{'Payer':<15} | {'Amount':<10} | {'Description':<25} | Receivers\\n\")\n",
    "                file.write(\"=\" * 100 + \"\\n\")\n",
    "                for expense in self.expenses:\n",
    "                    payer = expense['payer']\n",
    "                    amount = float(expense['amount'])\n",
    "                    description = expense.get('description', '')\n",
    "                    receivers = expense['receiver']\n",
    "                    receiver_info = \", \".join([f\"{name}: {amt}\" for name, amt in receivers.items()])\n",
    "                    file.write(f\"{payer:<15} | {amount:<10.2f} | {description:<25} | {receiver_info}\\n\")\n",
    "            print(\"Data saved successfully in clean format.\")\n",
    "        except Exception as e:\n",
    "            print(f\"Error saving data: {e}\")\n",
    "\n"
   ]
  },
  {
   "cell_type": "code",
   "execution_count": 67,
   "id": "9376c80e-3f22-4a94-9a72-a60647d7a1a9",
   "metadata": {},
   "outputs": [],
   "source": [
    "a= Expense_Tracker()"
   ]
  },
  {
   "cell_type": "code",
   "execution_count": 83,
   "id": "a4c4355d-ab07-4feb-8a7f-f52e5c4df255",
   "metadata": {},
   "outputs": [
    {
     "name": "stdin",
     "output_type": "stream",
     "text": [
      "Enter the payer name:  o\n",
      "Enter the amount:  300\n",
      "Enter the description of expense:  t\n",
      "Choose the split type [Equal/Custom]:  equal\n",
      "Enter the names of the receivers:  o,r,m\n"
     ]
    },
    {
     "name": "stdout",
     "output_type": "stream",
     "text": [
      "Expense added successfully\n",
      "Data saved successfully in clean format.\n"
     ]
    }
   ],
   "source": [
    "a.add_expense()"
   ]
  },
  {
   "cell_type": "code",
   "execution_count": 85,
   "id": "022d2bc9-6937-4e6b-ab3a-e4eb675f29a8",
   "metadata": {},
   "outputs": [
    {
     "name": "stdout",
     "output_type": "stream",
     "text": [
      "{'payer': 'r', 'amount': 300.0, 'description': 'f', 'receiver': {'o': 100.0, 'r': 100.0, 'm': 100.0}}\n",
      "{'payer': 'o', 'amount': 300.0, 'description': 't', 'receiver': {'o': 100.0, 'r': 100.0, 'm': 100.0}}\n"
     ]
    }
   ],
   "source": [
    "for i in a.expenses:\n",
    "    print ((i))"
   ]
  },
  {
   "cell_type": "code",
   "execution_count": 87,
   "id": "c2f98f35-1c08-4b99-854d-d1c641bad6c0",
   "metadata": {},
   "outputs": [
    {
     "data": {
      "text/plain": [
       "[('m', -200.0)]"
      ]
     },
     "execution_count": 87,
     "metadata": {},
     "output_type": "execute_result"
    }
   ],
   "source": [
    "a.get_simplified()"
   ]
  },
  {
   "cell_type": "code",
   "execution_count": 47,
   "id": "54d2f9ef-e437-432d-b779-6c640f6522aa",
   "metadata": {},
   "outputs": [
    {
     "name": "stdout",
     "output_type": "stream",
     "text": [
      "Data saved successfully in clean format.\n"
     ]
    }
   ],
   "source": [
    "a.save_data()"
   ]
  },
  {
   "cell_type": "code",
   "execution_count": 97,
   "id": "c1e6ad52-049d-4e6c-acb0-52395fd1a4e9",
   "metadata": {},
   "outputs": [
    {
     "name": "stdout",
     "output_type": "stream",
     "text": [
      "Payer      | Amount     | Description               | Receivers\n",
      "----------------------------------------------------------------------\n",
      "r          | 300.00     | f                         | o: 100.0, r: 100.0, m: 100.0\n",
      "o          | 300.00     | t                         | o: 100.0, r: 100.0, m: 100.0\n",
      "\n",
      "Existing data loaded and displayed successfully.\n"
     ]
    }
   ],
   "source": [
    "a.load_existing_data()"
   ]
  },
  {
   "cell_type": "code",
   "execution_count": 89,
   "id": "78d79657-0f9b-496e-a8c9-7335ed15a3f5",
   "metadata": {},
   "outputs": [
    {
     "data": {
      "text/plain": [
       "[{'payer': 'r',\n",
       "  'amount': 300.0,\n",
       "  'description': 'f',\n",
       "  'receivers': {'o': 100.0, 'r': 100.0, 'm': 100.0}},\n",
       " {'payer': 'o',\n",
       "  'amount': 300.0,\n",
       "  'description': 't',\n",
       "  'receivers': {'o': 100.0, 'r': 100.0, 'm': 100.0}}]"
      ]
     },
     "execution_count": 89,
     "metadata": {},
     "output_type": "execute_result"
    }
   ],
   "source": [
    "a.get_expense_summary()"
   ]
  },
  {
   "cell_type": "code",
   "execution_count": 91,
   "id": "7cce090b-9b50-4bbc-92de-ea17822de616",
   "metadata": {},
   "outputs": [
    {
     "data": {
      "text/plain": [
       "{'o': 100.0, 'r': 100.0, 'm': -200.0}"
      ]
     },
     "execution_count": 91,
     "metadata": {},
     "output_type": "execute_result"
    }
   ],
   "source": [
    "a.get_balance()"
   ]
  },
  {
   "cell_type": "code",
   "execution_count": 45,
   "id": "f9912076-ac81-452a-a771-149a01978eda",
   "metadata": {},
   "outputs": [
    {
     "name": "stdout",
     "output_type": "stream",
     "text": [
      "Payer      | Amount     | Description               | Receivers\n",
      "----------------------------------------------------------------------\n",
      "r          | 300.00     | f                         | r: 100.0, a: 100.0\n",
      "\n",
      "Existing data loaded and displayed successfully.\n"
     ]
    }
   ],
   "source": [
    "a.load_existing_data()"
   ]
  },
  {
   "cell_type": "code",
   "execution_count": 95,
   "id": "857fe630-d990-4c8b-834b-13d3b329502d",
   "metadata": {},
   "outputs": [
    {
     "name": "stdin",
     "output_type": "stream",
     "text": [
      "Enter the name of the person to get the summary:  m\n"
     ]
    },
    {
     "name": "stdout",
     "output_type": "stream",
     "text": [
      "\n",
      "Summary for m:\n",
      "Total Paid      : 0\n",
      "Total Received  : 200.0\n",
      "Total Spent on Self : 0\n"
     ]
    }
   ],
   "source": [
    "a.get_person_summary()"
   ]
  },
  {
   "cell_type": "code",
   "execution_count": null,
   "id": "ccb30c8d-c358-42f3-8352-58ffe1cb25c2",
   "metadata": {},
   "outputs": [],
   "source": []
  }
 ],
 "metadata": {
  "kernelspec": {
   "display_name": "Python [conda env:base] *",
   "language": "python",
   "name": "conda-base-py"
  },
  "language_info": {
   "codemirror_mode": {
    "name": "ipython",
    "version": 3
   },
   "file_extension": ".py",
   "mimetype": "text/x-python",
   "name": "python",
   "nbconvert_exporter": "python",
   "pygments_lexer": "ipython3",
   "version": "3.12.7"
  }
 },
 "nbformat": 4,
 "nbformat_minor": 5
}
